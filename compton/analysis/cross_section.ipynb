{
 "cells": [
  {
   "cell_type": "markdown",
   "metadata": {},
   "source": [
    "# Differential cross section"
   ]
  },
  {
   "cell_type": "code",
   "execution_count": 2,
   "metadata": {
    "collapsed": false
   },
   "outputs": [],
   "source": [
    "%matplotlib inline"
   ]
  },
  {
   "cell_type": "code",
   "execution_count": 3,
   "metadata": {
    "collapsed": true
   },
   "outputs": [],
   "source": [
    "# %load preamb.py\n",
    "import numpy as np\n",
    "import pylab as plt\n",
    "from matplotlib import rcParams\n",
    "from scipy.optimize import curve_fit\n",
    "import scipy.constants as co\n",
    "import uncertainties as uc\n",
    "import uncertainties.unumpy as un\n",
    "from scipy.signal import argrelextrema as ext\n",
    "from scipy.signal import savgol_filter as sav\n",
    "import seaborn as sns\n",
    "from scipy.special import erfc\n",
    "from scipy.integrate import quad\n",
    "import sys\n",
    "\n",
    "sns.set(style='ticks', palette='Set2')\n",
    "sns.despine()\n",
    "\n",
    "fontsize_labels = 22    # size used in latex document\n",
    "rcParams['font.family'] = 'serif'\n",
    "rcParams['font.serif'] = ['Computer Modern Roman']\n",
    "rcParams['text.usetex'] = True\n",
    "rcParams['figure.autolayout'] = True\n",
    "rcParams['font.size'] = fontsize_labels\n",
    "rcParams['axes.labelsize'] = fontsize_labels\n",
    "rcParams['xtick.labelsize'] = fontsize_labels\n",
    "rcParams['ytick.labelsize'] = fontsize_labels\n",
    "rcParams['legend.fontsize'] = fontsize_labels\n",
    "rcParams['figure.figsize'] = (2*6.2, 2*3.83)  # in inches; width corresponds to \\textwidth in latex document (golden ratio)\n",
    "\n",
    "plt.close(\"all\")\n",
    "show_fig = True\n",
    "save_fig = False # see below\n",
    "if not save_fig:\n",
    "        rcParams['figure.figsize'] = (13, 8)\n",
    "        fig_dir = \"../figures/\"\n",
    "        npy_dir = \"./data_npy/\"\n"
   ]
  },
  {
   "cell_type": "markdown",
   "metadata": {},
   "source": [
    "## Integration"
   ]
  },
  {
   "cell_type": "markdown",
   "metadata": {},
   "source": [
    "Photon intensities at different angles. \n",
    "Integration is done numerically: sum over entries of histogram, \n",
    "multiplied by width of bin in energy domain (result of calibration_na). \n",
    "The differential cross section is approximated by the fraction of \n",
    "photons scattered at angle $\\theta$ ($I(\\theta)$) over the total incident \n",
    "intensity ($I_{tot}$), divided by the solid angle $\\Delta \\Omega$."
   ]
  },
  {
   "cell_type": "code",
   "execution_count": 18,
   "metadata": {
    "collapsed": false
   },
   "outputs": [
    {
     "data": {
      "text/plain": [
       "'mu(energy)'"
      ]
     },
     "execution_count": 18,
     "metadata": {},
     "output_type": "execute_result"
    }
   ],
   "source": [
    "sums = []\n",
    "theta = 75\n",
    "y = np.load(npy_dir + 'na_rate_' + str(theta) + '.npy')\n",
    "sums.append(np.sum(y))\n",
    "\n",
    "na_cal = np.load(npy_dir + 'na_calibration.npy')\n",
    "dE = na_cal[0]\n",
    "integral = np.array(sums) * dE\n",
    "\n",
    "'epsilon(energy)'\n",
    "'mu(energy)'"
   ]
  },
  {
   "cell_type": "code",
   "execution_count": 19,
   "metadata": {
    "collapsed": false
   },
   "outputs": [
    {
     "data": {
      "text/plain": [
       "array([0.15120726412252344+/-0.002002356430976444], dtype=object)"
      ]
     },
     "execution_count": 19,
     "metadata": {},
     "output_type": "execute_result"
    }
   ],
   "source": [
    "integral"
   ]
  },
  {
   "cell_type": "markdown",
   "metadata": {},
   "source": [
    "must further include: errors on counts for all measurements"
   ]
  }
 ],
 "metadata": {
  "kernelspec": {
   "display_name": "Python 3",
   "language": "python",
   "name": "python3"
  },
  "language_info": {
   "codemirror_mode": {
    "name": "ipython",
    "version": 3
   },
   "file_extension": ".py",
   "mimetype": "text/x-python",
   "name": "python",
   "nbconvert_exporter": "python",
   "pygments_lexer": "ipython3",
   "version": "3.4.2"
  }
 },
 "nbformat": 4,
 "nbformat_minor": 0
}
