{
 "cells": [
  {
   "cell_type": "markdown",
   "metadata": {},
   "source": [
    "# Differential cross section"
   ]
  },
  {
   "cell_type": "code",
   "execution_count": 11,
   "metadata": {
    "collapsed": false
   },
   "outputs": [],
   "source": [
    "%matplotlib inline"
   ]
  },
  {
   "cell_type": "code",
   "execution_count": 3,
   "metadata": {
    "collapsed": false
   },
   "outputs": [
    {
     "data": {
      "text/plain": [
       "<matplotlib.figure.Figure at 0x7f53546d1f98>"
      ]
     },
     "metadata": {},
     "output_type": "display_data"
    }
   ],
   "source": [
    "# %load \"../../style.py\"\n",
    "import matplotlib.pyplot as plt\n",
    "%matplotlib inline\n",
    "from matplotlib.colors import colorConverter\n",
    "from matplotlib import rcParams\n",
    "import seaborn as sns\n",
    "from scipy.optimize import curve_fit\n",
    "\n",
    "sns.set(style='ticks', palette='Set2') \n",
    "sns.despine()\n",
    "\n",
    "# These are the colors. Notice how this is programmed:\n",
    "# You initialize your colors by \n",
    "# colorset = palette()\n",
    "# then you can cycle through the colors:\n",
    "# color = next(colorset)\n",
    "# if you want your set to be reset, just create\n",
    "# a new palette() instance! This way the colors do not interfere.\n",
    "\n",
    "color_names = ['windows blue', \"pale red\", \"faded green\", \"amber\", \n",
    "          'dark green', 'dark fuchsia', 'browny orange', \n",
    "          'puke green', 'dark royal blue', 'dusty purple', 'red orange']\n",
    "colors = sns.xkcd_palette(color_names)\n",
    "palette = lambda: itertools.cycle(sns.xkcd_palette(color_names) )\n",
    "\n",
    "fontsize_labels = 26    # size used in latex document\n",
    "rcParams['text.latex.preamble'] = [r'\\usepackage[cmbright]{sfmath}']\n",
    "rcParams['font.family']= 'sans-serif'\n",
    "rcParams['font.sans-serif']= 'cmbright'\n",
    "rcParams['font.weight'] = \"light\"\n",
    "\n",
    "rcParams['text.usetex'] = True\n",
    "\n",
    "rcParams['figure.autolayout'] = True\n",
    "rcParams['font.size'] = fontsize_labels\n",
    "rcParams['axes.labelsize'] = fontsize_labels\n",
    "rcParams['xtick.labelsize'] = fontsize_labels\n",
    "rcParams['ytick.labelsize'] = fontsize_labels\n",
    "rcParams['legend.fontsize'] = fontsize_labels\n",
    "rcParams['legend.markerscale'] = 4\n",
    "rcParams['axes.titlesize'] = fontsize_labels\n",
    "rcParams['text.color'] = \"0.3\"\n",
    "rcParams['xtick.color'] = \"0.3\"\n",
    "rcParams['ytick.color'] = \"0.3\"\n",
    "rcParams['axes.labelcolor'] = \"0.3\"\n",
    "rcParams['axes.edgecolor'] = \"0.8\"\n",
    "\n",
    "xfactor = 2\n",
    "rcParams['figure.figsize'] = (xfactor*6.2, xfactor*3.83)  \n",
    "\n",
    "save_fig = True\n",
    "if not save_fig:\n",
    "        rcParams['figure.figsize'] = (13, 8) \n",
    "fig_dir = \"./figures/\"  # directory of figures\n",
    "\n",
    "def fixticks(ax):    \n",
    "    for t in ax.xaxis.get_ticklines(): t.set_color('0.8')\n",
    "    for t in ax.yaxis.get_ticklines(): t.set_color('0.8')\n"
   ]
  },
  {
   "cell_type": "code",
   "execution_count": 5,
   "metadata": {
    "collapsed": true
   },
   "outputs": [],
   "source": [
    "# %load ../../tools.py\n",
    "def uc_str(c, max_digit=4):\n",
    "    \"\"\"\n",
    "    input format: uc.ufloat\n",
    "    rounds float and corrisponding error to last significant digit\n",
    "    returns float and error as string\n",
    "    as integers with max max_digit (=4) error digits\n",
    "    as floats with max 4 error digits\n",
    "    as exp else\n",
    "    \"\"\"\n",
    "    digit = -int(np.floor(np.log10(c.s)))    \n",
    "    if (c.s * 10**digit) < 1.5: # convention...\n",
    "        digit += 1\n",
    "    c_r = round(c.n, digit)\n",
    "    s_c_r = round(c.s, digit)\n",
    "    if (-3 < digit) * (digit <= 0): # returns readable integers\n",
    "        c_str = '%i \\pm %i'%(c_r, s_c_r)\n",
    "    elif (0 < digit) * (digit < (max_digit + 1)): # returns readable floats (max 3 digits)\n",
    "        c_str = ('%.' + str(digit) + 'f \\pm %.' + str(digit) + 'f')%(c_r, s_c_r)\n",
    "    else: # returns exp\n",
    "        c_str = ('(%.1f \\pm %.1f)\\mathrm{e}%i')%(c_r * 10**(digit-1), s_c_r * 10**(digit-1), -(digit-1))\n",
    "    return c_str\n",
    "\n",
    "def enum(arr1, *args):\n",
    "    i_range = range(len(arr1))\n",
    "    return zip(i_range, arr1 ,*args)\n"
   ]
  },
  {
   "cell_type": "code",
   "execution_count": 7,
   "metadata": {
    "collapsed": true
   },
   "outputs": [],
   "source": [
    "# %load ../../preamb.py\n",
    "import numpy as np\n",
    "import uncertainties as uc\n",
    "import uncertainties.unumpy as un\n",
    "from scipy.optimize import curve_fit\n",
    "from scipy.signal import savgol_filter as sav\n",
    "from scipy.special import erfc\n",
    "from scipy.integrate import quad\n",
    "import sys\n",
    "import re\n",
    "\n",
    "npy_dir = \"./npy/\"\n"
   ]
  },
  {
   "cell_type": "markdown",
   "metadata": {},
   "source": [
    "## Integration"
   ]
  },
  {
   "cell_type": "markdown",
   "metadata": {},
   "source": [
    "Photon intensities at different angles. \n",
    "Integration is done numerically: sum over entries of histogram, \n",
    "multiplied by width of bin in energy domain (result of calibration_na). \n",
    "The differential cross section is approximated by the fraction of \n",
    "photons scattered at angle $\\theta$ ($I(\\theta)$) over the total incident \n",
    "intensity ($I_{tot}$), divided by the solid angle $\\Delta \\Omega$."
   ]
  },
  {
   "cell_type": "code",
   "execution_count": 14,
   "metadata": {
    "collapsed": false
   },
   "outputs": [
    {
     "ename": "NameError",
     "evalue": "name 'na_cal' is not defined",
     "output_type": "error",
     "traceback": [
      "\u001b[1;31m---------------------------------------------------------------------------\u001b[0m",
      "\u001b[1;31mNameError\u001b[0m                                 Traceback (most recent call last)",
      "\u001b[1;32m<ipython-input-14-bea1336b4d19>\u001b[0m in \u001b[0;36m<module>\u001b[1;34m()\u001b[0m\n\u001b[1;32m----> 1\u001b[1;33m \u001b[0mdE\u001b[0m \u001b[1;33m=\u001b[0m \u001b[0mna_cal\u001b[0m\u001b[1;33m[\u001b[0m\u001b[1;36m0\u001b[0m\u001b[1;33m]\u001b[0m \u001b[1;33m*\u001b[0m \u001b[1;36m16\u001b[0m\u001b[1;33m\u001b[0m\u001b[0m\n\u001b[0m\u001b[0;32m      2\u001b[0m \u001b[0mi_photon\u001b[0m \u001b[1;33m=\u001b[0m \u001b[0mdE\u001b[0m \u001b[1;33m*\u001b[0m \u001b[0mnp\u001b[0m\u001b[1;33m.\u001b[0m\u001b[0mload\u001b[0m\u001b[1;33m(\u001b[0m\u001b[0mnpy_dir\u001b[0m \u001b[1;33m+\u001b[0m \u001b[1;34m'i_photon_'\u001b[0m \u001b[1;33m+\u001b[0m \u001b[0mstr\u001b[0m\u001b[1;33m(\u001b[0m\u001b[0mtheta\u001b[0m\u001b[1;33m)\u001b[0m \u001b[1;33m+\u001b[0m \u001b[1;34m'.npy'\u001b[0m\u001b[1;33m)\u001b[0m\u001b[1;33m\u001b[0m\u001b[0m\n\u001b[0;32m      3\u001b[0m \u001b[1;33m\u001b[0m\u001b[0m\n\u001b[0;32m      4\u001b[0m \"\"\"\n\u001b[0;32m      5\u001b[0m \u001b[1;31m# Calculate integral directly\u001b[0m\u001b[1;33m\u001b[0m\u001b[1;33m\u001b[0m\u001b[0m\n",
      "\u001b[1;31mNameError\u001b[0m: name 'na_cal' is not defined"
     ]
    }
   ],
   "source": [
    "dE = na_cal[0] * 16\n",
    "i_photon = dE * np.load(npy_dir + 'i_photon_' + str(theta) + '.npy')\n",
    "\n",
    "\"\"\"\n",
    "# Calculate integral directly\n",
    "sums = []\n",
    "theta = 75\n",
    "y = np.load(npy_dir + 'na_rate_' + str(theta) + '.npy')\n",
    "sums.append(np.sum(y))\n",
    "na_cal = np.load(npy_dir + 'na_calibration.npy')\n",
    "integral = np.array(sums) * dE\n",
    "\"\"\"\n",
    "\n",
    "# no_total_incident\n",
    "\n",
    "'epsilon(energy)'\n",
    "'mu(energy)'"
   ]
  },
  {
   "cell_type": "code",
   "execution_count": null,
   "metadata": {
    "collapsed": false
   },
   "outputs": [],
   "source": [
    "def plot_total():\n",
    "    '''\n",
    "    Plots total incident photons at NaI scintillator\n",
    "    (source: 137Cs, no target in between)\n",
    "    '''\n",
    "    #### GET DATA  ####\n",
    "    file_name = \"na_total_incident\"\n",
    "    file_in = npy_dir + file_name + '.npy'\n",
    "    y = np.load(file_in)\n",
    "    y_e = un.uarray(y, np.maximum(1, np.sqrt(y)))\n",
    "    \n",
    "    ### Get time from file\n",
    "    file_in_mcd = data_dir + file_name + '.TKA'\n",
    "    f = open(file_in_mcd)\n",
    "    settings = f.read()\n",
    "    f.close()\n",
    "    lines = settings.split('\\n')\n",
    "    t = np.float(lines[1]) # livetime is written in line 1...\n",
    "\n",
    "    rate = y / t\n",
    "    #rate = rate - rate_bg\n",
    "    #rate = rate - rate_rnd\n",
    "    rate[rate < 0] = 0\n",
    "    y = rate    # Continue to work with the rate!\n",
    "\n",
    "    rate_e = y_e / t # - rate_bg_e - rate_rnd_e\n",
    "    rate_e[rate < 0] = 0 \n",
    "\n",
    "\n",
    "    # Rebinning: 1/16 of number of bins\n",
    "    z = y[:-14] # last 14 bins are dropped to obtain a len(z) as a multiple of 16\n",
    "    z = z.reshape([len(z) / 16, 16])\n",
    "    z = np.sum(z, axis=1)\n",
    "    y = z\n",
    "\n",
    "    z_e = rate_e[:-14] # last 14 bins are dropped to obtain a len(z) as a multiple of 16\n",
    "    z_e = z_e.reshape([len(z_e) / 16, 16])\n",
    "    z_e = np.sum(z_e, axis=1)\n",
    "    y_e = z_e\n",
    "    np.save(npy_dir + 'na_rate_' + str(theta), y_e)\n",
    "\n",
    "    x = np.arange(len(y))\n",
    "    y_filtered = sav(y, 201, 7)\n",
    "\n",
    "    ###### PLOTTING #################\n",
    "    if show_fig:\n",
    "        fig1, ax1 = plt.subplots(1, 1)\n",
    "        if not save_fig:\n",
    "            fig1.suptitle(\"NaI scintillator, total incident photons\")\n",
    "        ax1.plot(x, y, '.', alpha=0.9, label='data')\n",
    "        ax1.set_xlabel(\"Channel\")\n",
    "        ax1.set_ylabel(\"Rate / $s^{-1}$\")\n",
    "        ax1.set_xlim(0, 800)\n",
    "        ax1.set_ylim(0,)\n",
    "        ax1.legend(loc=1)\n",
    "        ax1.grid(True)\n",
    "        if save_fig:\n",
    "            fig1.savefig(fig_dir + file_name + \".pdf\")\n",
    "            fig1.savefig(fig_dir + file_name + \".png\")\n",
    "\n",
    "    return(0)\n"
   ]
  },
  {
   "cell_type": "code",
   "execution_count": null,
   "metadata": {
    "collapsed": false
   },
   "outputs": [],
   "source": [
    "plot_total()"
   ]
  },
  {
   "cell_type": "markdown",
   "metadata": {},
   "source": [
    "must further include: errors on counts for all measurements"
   ]
  }
 ],
 "metadata": {
  "kernelspec": {
   "display_name": "Python 3",
   "language": "python",
   "name": "python3"
  },
  "language_info": {
   "codemirror_mode": {
    "name": "ipython",
    "version": 3
   },
   "file_extension": ".py",
   "mimetype": "text/x-python",
   "name": "python",
   "nbconvert_exporter": "python",
   "pygments_lexer": "ipython3",
   "version": "3.4.3"
  }
 },
 "nbformat": 4,
 "nbformat_minor": 0
}
