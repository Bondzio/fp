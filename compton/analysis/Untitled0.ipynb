{
 "metadata": {
  "name": "",
  "signature": "sha256:adc8a2d74bfed213bd49039624bc6c106b4e1ea979343a1d7815726bfac03e58"
 },
 "nbformat": 3,
 "nbformat_minor": 0,
 "worksheets": [
  {
   "cells": [
    {
     "cell_type": "code",
     "collapsed": false,
     "input": [
      "load calibration_na.ipynb"
     ],
     "language": "python",
     "metadata": {},
     "outputs": [
      {
       "name": "stdout",
       "output_type": "stream",
       "stream": "stdout",
       "text": [
        "The text you're trying to load seems pretty big (228190 characters). Continue (y/[N]) ? N\n"
       ]
      },
      {
       "output_type": "stream",
       "stream": "stdout",
       "text": [
        "Operation cancelled.\n"
       ]
      }
     ],
     "prompt_number": 1
    },
    {
     "cell_type": "code",
     "collapsed": false,
     "input": [],
     "language": "python",
     "metadata": {},
     "outputs": []
    }
   ],
   "metadata": {}
  }
 ]
}