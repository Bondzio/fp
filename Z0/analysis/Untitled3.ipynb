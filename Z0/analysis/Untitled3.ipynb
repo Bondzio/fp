{
 "cells": [
  {
   "cell_type": "code",
   "execution_count": null,
   "metadata": {
    "collapsed": true
   },
   "outputs": [],
   "source": [
    "def return_unique(x)\n",
    "    uniqueMap = {}\n",
    "    for i in x:\n",
    "        \n",
    "                if j in myMap:\n",
    "                    del uniqueMap[j]\n",
    "                else:\n",
    "                    myMap[j] = 1\n",
    "                    uniqueMap[j] = 1"
   ]
  }
 ],
 "metadata": {
  "kernelspec": {
   "display_name": "Python 3",
   "language": "python",
   "name": "python3"
  },
  "language_info": {
   "codemirror_mode": {
    "name": "ipython",
    "version": 3
   },
   "file_extension": ".py",
   "mimetype": "text/x-python",
   "name": "python",
   "nbconvert_exporter": "python",
   "pygments_lexer": "ipython3",
   "version": "3.4.3"
  }
 },
 "nbformat": 4,
 "nbformat_minor": 0
}
