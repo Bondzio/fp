{
 "cells": [
  {
   "cell_type": "code",
   "execution_count": 2,
   "metadata": {
    "collapsed": false
   },
   "outputs": [],
   "source": [
    "%load_ext Cython"
   ]
  },
  {
   "cell_type": "code",
   "execution_count": 6,
   "metadata": {
    "collapsed": false
   },
   "outputs": [],
   "source": [
    "a=10\n",
    "b=20"
   ]
  },
  {
   "cell_type": "code",
   "execution_count": 11,
   "metadata": {
    "collapsed": false
   },
   "outputs": [],
   "source": [
    "%%cython\n",
    "cimport cython\n",
    "from libc.math cimport exp, sqrt, pow, log, erf\n",
    "\n",
    "@cython.cdivision(True)\n",
    "cdef double std_norm_cdf(double x) nogil:\n",
    "    return 0.5*(1+erf(x/sqrt(2.0)))\n",
    "\n",
    "@cython.cdivision(True)\n",
    "def black_scholes(double s, double k, double t, double v,\n",
    "                 double rf, double div, double cp):\n",
    "    \"\"\"Price an option using the Black-Scholes model.\n",
    "    \n",
    "    s : initial stock price\n",
    "    k : strike price\n",
    "    t : expiration time\n",
    "    v : volatility\n",
    "    rf : risk-free rate\n",
    "    div : dividend\n",
    "    cp : +1/-1 for call/put\n",
    "    \"\"\"\n",
    "    cdef double d1, d2, optprice\n",
    "    with nogil:\n",
    "        d1 = (log(s/k)+(rf-div+0.5*pow(v,2))*t)/(v*sqrt(t))\n",
    "        d2 = d1 - v*sqrt(t)\n",
    "        optprice = cp*s*exp(-div*t)*std_norm_cdf(cp*d1) - \\\n",
    "            cp*k*exp(-rf*t)*std_norm_cdf(cp*d2)\n",
    "    return optprice"
   ]
  },
  {
   "cell_type": "code",
   "execution_count": 12,
   "metadata": {
    "collapsed": false
   },
   "outputs": [
    {
     "data": {
      "text/plain": [
       "10.327861752731728"
      ]
     },
     "execution_count": 12,
     "metadata": {},
     "output_type": "execute_result"
    }
   ],
   "source": [
    "black_scholes(100.0, 100.0, 1.0, 0.3, 0.03, 0.0, -1)"
   ]
  },
  {
   "cell_type": "code",
   "execution_count": 17,
   "metadata": {
    "collapsed": false
   },
   "outputs": [
    {
     "name": "stdout",
     "output_type": "stream",
     "text": [
      "The base16_mplrc module is not an IPython extension.\n"
     ]
    }
   ],
   "source": [
    "%load_ext base16_mplrc"
   ]
  },
  {
   "cell_type": "code",
   "execution_count": null,
   "metadata": {
    "collapsed": true
   },
   "outputs": [],
   "source": []
  }
 ],
 "metadata": {
  "kernelspec": {
   "display_name": "Python 3",
   "language": "python",
   "name": "python3"
  },
  "language_info": {
   "codemirror_mode": {
    "name": "ipython",
    "version": 3
   },
   "file_extension": ".py",
   "mimetype": "text/x-python",
   "name": "python",
   "nbconvert_exporter": "python",
   "pygments_lexer": "ipython3",
   "version": "3.4.3"
  }
 },
 "nbformat": 4,
 "nbformat_minor": 0
}
