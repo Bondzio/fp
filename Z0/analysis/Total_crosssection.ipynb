{
 "cells": [
  {
   "cell_type": "code",
   "execution_count": 5,
   "metadata": {
    "collapsed": false
   },
   "outputs": [
    {
     "data": {
      "text/plain": [
       "<matplotlib.figure.Figure at 0x7f778e515e48>"
      ]
     },
     "metadata": {},
     "output_type": "display_data"
    }
   ],
   "source": [
    "# %load ../../style.py\n",
    "import numpy as np\n",
    "import matplotlib.pyplot as plt\n",
    "%matplotlib inline\n",
    "from matplotlib.colors import colorConverter\n",
    "from matplotlib import rcParams\n",
    "import seaborn as sns\n",
    "from scipy.optimize import curve_fit\n",
    "\n",
    "sns.set(style='ticks', palette='Set2') \n",
    "sns.despine()\n",
    "\n",
    "fontsize_labels = 26    # size used in latex document\n",
    "rcParams['text.latex.preamble'] = [r'\\usepackage[cmbright]{sfmath}']\n",
    "rcParams['font.family']= 'sans-serif'\n",
    "rcParams['font.sans-serif']= 'cmbright'\n",
    "rcParams['font.weight'] = \"light\"\n",
    "\n",
    "rcParams['text.usetex'] = True\n",
    "\n",
    "rcParams['figure.autolayout'] = True\n",
    "rcParams['font.size'] = fontsize_labels\n",
    "rcParams['axes.labelsize'] = fontsize_labels\n",
    "rcParams['xtick.labelsize'] = fontsize_labels\n",
    "rcParams['ytick.labelsize'] = fontsize_labels\n",
    "rcParams['legend.fontsize'] = fontsize_labels\n",
    "rcParams['axes.titlesize'] = fontsize_labels\n",
    "xfactor = 2\n",
    "rcParams['figure.figsize'] = (xfactor*6.2, xfactor*3.83)  \n"
   ]
  },
  {
   "cell_type": "code",
   "execution_count": 11,
   "metadata": {
    "collapsed": true
   },
   "outputs": [],
   "source": [
    "from scipy.optimize import curve_fit\n",
    "from scipy.optimize import leastsq\n",
    "\n",
    "import uncertainties as uc\n",
    "import uncertainties.unumpy as un\n",
    "\n",
    "import pickle\n",
    "import itertools\n",
    "\n",
    "chars=[\"Electrons\",\"Muons\",\"Taons\",\"Hadrons\"]"
   ]
  },
  {
   "cell_type": "code",
   "execution_count": 31,
   "metadata": {
    "collapsed": false
   },
   "outputs": [
    {
     "name": "stdout",
     "output_type": "stream",
     "text": [
      "gamma_m \t 0.084+/-0.004\n",
      "gamma_e \t 0.084+/-0.004\n",
      "gamma_t \t 0.084+/-0.004\n",
      "gamma_Z \t 2.558+/-0.020\n",
      "Mz      \t 91.186+/-0.008\n",
      "gamma_h \t 1.78+/-0.09\n"
     ]
    },
    {
     "name": "stderr",
     "output_type": "stream",
     "text": [
      "/usr/lib/python3.4/site-packages/matplotlib/figure.py:1653: UserWarning: This figure includes Axes that are not compatible with tight_layout, so its results might be incorrect.\n",
      "  warnings.warn(\"This figure includes Axes that are not \"\n"
     ]
    },
    {
     "data": {
      "image/png": "[encoded data removed]",
      "text/plain": [
       "<matplotlib.figure.Figure at 0x7f778d9f5d30>"
      ]
     },
     "metadata": {},
     "output_type": "display_data"
    }
   ],
   "source": [
    "crosssections = pickle.load( open(\"data/crosssection.p\",\"rb\"))\n",
    "cross_total = un.nominal_values(list(crosssections.values()))\n",
    "cross_total_error = un.std_devs(list(crosssections.values()))\n",
    "\n",
    "E = (np.array(4*list(crosssections.keys())).reshape(4,7).swapaxes(0,1))\n",
    "\n",
    "\n",
    "def Breit_Wigner(s,p):\n",
    "    gamma_e, gamma_m,gamma_t,gamma_h,gamma_Z,Mz = p\n",
    "    gamma_f = np.array([gamma_e,gamma_m,gamma_t,gamma_h])\n",
    "    return 12*np.pi / Mz**2 * (gamma_e*gamma_f*s)/((s - Mz**2)**2 +(s*gamma_Z/Mz)**2)\n",
    "\n",
    "\n",
    "p0 = [80,80,80,1600,2.5,90]\n",
    "\n",
    "def residuals(p):\n",
    "    return (cross_total - Breit_Wigner(E**2,p)).flatten()\n",
    "\n",
    "def residuals_weighted(p,error):\n",
    "    weights = 1 / error\n",
    "    return (weights*(cross_total - Breit_Wigner(E**2,p))).flatten()\n",
    "\n",
    "p,cov,infodict,mesg,ier = leastsq(residuals_weighted,p0,args=cross_total_error,full_output=True)\n",
    "len_data = len(residuals(p))\n",
    "chi_sq = (residuals(p)**2).sum()/(len_data-len(p))\n",
    "p_uc = uc.correlated_values(p, cov)\n",
    "keys = [\"gamma_e\", \"gamma_m\",\"gamma_t\",\"gamma_h\",\"gamma_Z\",\"Mz     \"]\n",
    "params = dict(zip(keys,p_uc))\n",
    "gamma_e, gamma_m,gamma_t,gamma_h,gamma_Z,Mz = p_uc\n",
    "\n",
    "for k in params:\n",
    "    print(k,\"\\t\",params[k])\n",
    "f, ax1 = plt.subplots(1, 1)\n",
    "palette = itertools.cycle(sns.color_palette())\n",
    "\n",
    "E_ = np.array([np.linspace(np.min(E),np.max(E),1000)]*4).swapaxes(0,1)\n",
    "data_fit = Breit_Wigner(E_**2,p)\n",
    "error_mat = Breit_Wigner(E_**2,p_uc)\n",
    "error_on_fit = np.array([un.std_devs(error_mat[:,k]) for k in range(4)]).swapaxes(0,1)   \n",
    "data_fit_min = data_fit - error_on_fit\n",
    "data_fit_max = data_fit + error_on_fit\n",
    "\n",
    "for k in range(4):\n",
    "    color=next(palette)\n",
    "    ax1.errorbar(E[:,0], cross_total[:,k],color=color, label = chars[k],yerr=cross_total_error[:,k],fmt='o') \n",
    "    \n",
    "    ax1.plot(E_,data_fit[:,k],color=color)\n",
    "    ax1.fill_between(E_[:,0], 1.0*data_fit_min[:,k] , 1.0*data_fit_max[:,k], facecolor=color, alpha=0.3 )\n",
    "\n",
    "p_lit = [83.39,83.39,83.39,1670,2.4,91.187]\n",
    "data_fit = Breit_Wigner(E_**2,p_lit)\n",
    "\n",
    "    \n",
    "ax1.set_yscale(\"log\")\n",
    "ax1.yaxis.grid(True,'minor',linewidth=0.5,color = \"blue\", alpha = 0.2)\n",
    "ax1.yaxis.grid(True,'major',linewidth=1.2, color = \"blue\", alpha = 0.2)\n",
    "ax1.xaxis.grid(True)\n",
    "ax1.legend()\n",
    "plt.show()"
   ]
  },
  {
   "cell_type": "code",
   "execution_count": 57,
   "metadata": {
    "collapsed": false
   },
   "outputs": [
    {
     "name": "stdout",
     "output_type": "stream",
     "text": [
      " \t  gamma_e \tgamma_m \tgamma_t \tgamma_h \tgamma_Z \tMz      \t\n",
      "gamma_e | 0.00004 \t-0.00004 \t-0.00004 \t-0.00082 \t0.00001 \t0.00000 \t\n",
      "gamma_m | -0.00004 \t0.00004 \t0.00004 \t0.00082 \t0.00001 \t0.00000 \t\n",
      "gamma_t | -0.00004 \t0.00004 \t0.00005 \t0.00094 \t0.00001 \t0.00000 \t\n",
      "gamma_h | -0.00082 \t0.00082 \t0.00094 \t0.01737 \t0.00017 \t0.00003 \t\n",
      "gamma_Z | 0.00001 \t0.00001 \t0.00001 \t0.00017 \t0.00031 \t0.00004 \t\n",
      "Mz      | 0.00000 \t0.00000 \t0.00000 \t0.00003 \t0.00004 \t0.00005 \t\n"
     ]
    }
   ],
   "source": [
    "s= \" \\t  \"\n",
    "for i in range(6):\n",
    "    s+=keys[i]+ \" \\t\"\n",
    "print(s)\n",
    "for i,row in enumerate(cov):\n",
    "    s=    keys[i]+\" | \"\n",
    "    for item in row:\n",
    "        s+= \"%.5f \\t\"%item\n",
    "    print(s)"
   ]
  },
  {
   "cell_type": "markdown",
   "metadata": {},
   "source": [
    "# Leptonuniversality"
   ]
  },
  {
   "cell_type": "code",
   "execution_count": 26,
   "metadata": {
    "collapsed": false
   },
   "outputs": [
    {
     "name": "stdout",
     "output_type": "stream",
     "text": [
      "0.79+/-0.14\n"
     ]
    }
   ],
   "source": [
    "V_mu = gamma_m / gamma_e\n",
    "print(V_mu)"
   ]
  },
  {
   "cell_type": "code",
   "execution_count": 27,
   "metadata": {
    "collapsed": false
   },
   "outputs": [],
   "source": [
    "V_tau = gamma_t / gamma_e"
   ]
  },
  {
   "cell_type": "code",
   "execution_count": 28,
   "metadata": {
    "collapsed": false
   },
   "outputs": [
    {
     "name": "stdout",
     "output_type": "stream",
     "text": [
      "0.72+/-0.13\n"
     ]
    }
   ],
   "source": [
    "print(V_tau)"
   ]
  },
  {
   "cell_type": "markdown",
   "metadata": {},
   "source": [
    "# Number of Neutrino families"
   ]
  },
  {
   "cell_type": "code",
   "execution_count": 55,
   "metadata": {
    "collapsed": false
   },
   "outputs": [
    {
     "name": "stdout",
     "output_type": "stream",
     "text": [
      "2.80+/-0.12\n"
     ]
    }
   ],
   "source": [
    "gamma_nu = 1000*gamma_Z - gamma_e - gamma_m - gamma_t - gamma_h\n",
    "print(gamma_nu/(3*250))"
   ]
  },
  {
   "cell_type": "code",
   "execution_count": 65,
   "metadata": {
    "collapsed": false
   },
   "outputs": [
    {
     "data": {
      "text/plain": [
       "array([[ 0.02782197,  0.02787407,  0.02444231,  0.22967047],\n",
       "       [ 0.02785344,  0.00615895,  0.0097714 ,  0.05081131],\n",
       "       [ 0.02848529,  0.01084485,  0.0129525 ,  0.08831717],\n",
       "       [ 0.03258045,  0.02197724,  0.02034163,  0.17358069],\n",
       "       [ 0.02875475,  0.02774167,  0.02439848,  0.2334994 ],\n",
       "       [ 0.02325308,  0.01779787,  0.01554418,  0.13873916],\n",
       "       [ 0.01934437,  0.01088424,  0.0105085 ,  0.08941317]])"
      ]
     },
     "execution_count": 65,
     "metadata": {},
     "output_type": "execute_result"
    }
   ],
   "source": [
    "cross_total_error"
   ]
  },
  {
   "cell_type": "code",
   "execution_count": 10,
   "metadata": {
    "collapsed": false
   },
   "outputs": [],
   "source": [
    "x = uc.ufloat(1,0.1)"
   ]
  },
  {
   "cell_type": "code",
   "execution_count": 11,
   "metadata": {
    "collapsed": false
   },
   "outputs": [
    {
     "data": {
      "text/plain": [
       "'1.00+/-0.10'"
      ]
     },
     "execution_count": 11,
     "metadata": {},
     "output_type": "execute_result"
    }
   ],
   "source": [
    "x.__str__()"
   ]
  },
  {
   "cell_type": "code",
   "execution_count": 14,
   "metadata": {
    "collapsed": false
   },
   "outputs": [],
   "source": [
    "A = np.zeros([10,10])\n",
    "As = np.zeros([10,10])\n",
    "mat = un.umatrix(A,As)"
   ]
  },
  {
   "cell_type": "code",
   "execution_count": 17,
   "metadata": {
    "collapsed": false
   },
   "outputs": [],
   "source": [
    "x = un.uarray(np.random.random([10]),0.1*np.random.random(10))"
   ]
  },
  {
   "cell_type": "code",
   "execution_count": 23,
   "metadata": {
    "collapsed": false
   },
   "outputs": [],
   "source": [
    "mat[0,:]= x[:]"
   ]
  },
  {
   "cell_type": "code",
   "execution_count": 28,
   "metadata": {
    "collapsed": false
   },
   "outputs": [
    {
     "data": {
      "text/plain": [
       "4.166136572856776+/-0.18462829303989287"
      ]
     },
     "execution_count": 28,
     "metadata": {},
     "output_type": "execute_result"
    }
   ],
   "source": [
    "np.sum(mat[0,:])"
   ]
  },
  {
   "cell_type": "code",
   "execution_count": 29,
   "metadata": {
    "collapsed": false
   },
   "outputs": [],
   "source": [
    "Q = np.load(\"data/C_eff.npy\")"
   ]
  },
  {
   "cell_type": "code",
   "execution_count": 42,
   "metadata": {
    "collapsed": false
   },
   "outputs": [
    {
     "data": {
      "text/plain": [
       "0.0+/-0"
      ]
     },
     "execution_count": 42,
     "metadata": {},
     "output_type": "execute_result"
    }
   ],
   "source": [
    "np.dot(mat,x)[0,1]"
   ]
  },
  {
   "cell_type": "code",
   "execution_count": 59,
   "metadata": {
    "collapsed": false
   },
   "outputs": [
    {
     "data": {
      "text/plain": [
       "array([[[  4.0264756 ,   1.41202011,   1.37241074,  29.74980174]],\n",
       "\n",
       "       [[  3.35336208,   0.19795542,   0.52606954,   5.43977027]],\n",
       "\n",
       "       [[  3.6595686 ,   0.45146179,   0.6776835 ,   9.98120649]],\n",
       "\n",
       "       [[  3.85349824,   0.89022997,   0.93917095,  18.08119762]],\n",
       "\n",
       "       [[  3.38686697,   1.16711439,   1.13959833,  24.3054781 ]],\n",
       "\n",
       "       [[  2.6404849 ,   0.64783039,   0.80622629,  13.84393773]],\n",
       "\n",
       "       [[  2.44234359,   0.42797586,   0.65093952,   9.77715302]]])"
      ]
     },
     "execution_count": 59,
     "metadata": {},
     "output_type": "execute_result"
    }
   ],
   "source": [
    "cross_total"
   ]
  },
  {
   "cell_type": "code",
   "execution_count": 66,
   "metadata": {
    "collapsed": false
   },
   "outputs": [],
   "source": [
    "cc = np.array(cross_total)"
   ]
  },
  {
   "cell_type": "code",
   "execution_count": 68,
   "metadata": {
    "collapsed": false
   },
   "outputs": [
    {
     "data": {
      "text/plain": [
       "array([[  4.0264756 ,   1.41202011,   1.37241074,  29.74980174],\n",
       "       [  3.35336208,   0.19795542,   0.52606954,   5.43977027],\n",
       "       [  3.6595686 ,   0.45146179,   0.6776835 ,   9.98120649],\n",
       "       [  3.85349824,   0.89022997,   0.93917095,  18.08119762],\n",
       "       [  3.38686697,   1.16711439,   1.13959833,  24.3054781 ],\n",
       "       [  2.6404849 ,   0.64783039,   0.80622629,  13.84393773],\n",
       "       [  2.44234359,   0.42797586,   0.65093952,   9.77715302]])"
      ]
     },
     "execution_count": 68,
     "metadata": {},
     "output_type": "execute_result"
    }
   ],
   "source": [
    "cc.reshape(7,4)"
   ]
  },
  {
   "cell_type": "code",
   "execution_count": 69,
   "metadata": {
    "collapsed": false
   },
   "outputs": [
    {
     "data": {
      "text/plain": [
       "array([[[  4.0264756 ,   1.41202011,   1.37241074,  29.74980174]],\n",
       "\n",
       "       [[  3.35336208,   0.19795542,   0.52606954,   5.43977027]],\n",
       "\n",
       "       [[  3.6595686 ,   0.45146179,   0.6776835 ,   9.98120649]],\n",
       "\n",
       "       [[  3.85349824,   0.89022997,   0.93917095,  18.08119762]],\n",
       "\n",
       "       [[  3.38686697,   1.16711439,   1.13959833,  24.3054781 ]],\n",
       "\n",
       "       [[  2.6404849 ,   0.64783039,   0.80622629,  13.84393773]],\n",
       "\n",
       "       [[  2.44234359,   0.42797586,   0.65093952,   9.77715302]]])"
      ]
     },
     "execution_count": 69,
     "metadata": {},
     "output_type": "execute_result"
    }
   ],
   "source": [
    "cc"
   ]
  },
  {
   "cell_type": "code",
   "execution_count": 75,
   "metadata": {
    "collapsed": false
   },
   "outputs": [],
   "source": [
    "x[0]*=10"
   ]
  },
  {
   "cell_type": "code",
   "execution_count": 76,
   "metadata": {
    "collapsed": false
   },
   "outputs": [
    {
     "data": {
      "text/plain": [
       "array([53.24832527700394+/-0.44461033690990526,\n",
       "       0.4181668599823981+/-0.056231755988155635,\n",
       "       0.707794603248798+/-0.07266988316664731,\n",
       "       0.15230694660358957+/-0.020929987950580077,\n",
       "       0.2991144170669825+/-0.05989202437989231,\n",
       "       0.4338987498499758+/-0.057496683986228495,\n",
       "       0.2690259321667492+/-0.07644218705867242,\n",
       "       0.5486108991404033+/-0.059314144822759075,\n",
       "       0.287198720269196+/-0.01746001223387115,\n",
       "       0.5175361917586445+/-0.09288434227451736], dtype=object)"
      ]
     },
     "execution_count": 76,
     "metadata": {},
     "output_type": "execute_result"
    }
   ],
   "source": [
    "x"
   ]
  },
  {
   "cell_type": "code",
   "execution_count": 4,
   "metadata": {
    "collapsed": false
   },
   "outputs": [],
   "source": [
    "k =un.umatrix(np.random.random([10,10]),np.random.random([10,10]))"
   ]
  },
  {
   "cell_type": "code",
   "execution_count": 12,
   "metadata": {
    "collapsed": false
   },
   "outputs": [
    {
     "data": {
      "text/plain": [
       "matrix([[ 0.17145348,  0.6450831 ,  0.67147973,  0.03998192,  0.51039212,\n",
       "          0.8745753 ,  0.75558646,  0.93406254,  0.38208739,  0.50647447],\n",
       "        [ 0.40654297,  0.73652388,  0.61231385,  0.26247335,  0.26856128,\n",
       "          0.5654273 ,  0.67614   ,  0.53249716,  0.86226025,  0.64932876],\n",
       "        [ 0.9365334 ,  0.57212109,  0.35106973,  0.53241861,  0.77040747,\n",
       "          0.35546774,  0.53990053,  0.86500313,  0.7022928 ,  0.77490513],\n",
       "        [ 0.81619982,  0.73719764,  0.45568323,  0.79891863,  0.81702968,\n",
       "          0.83009767,  0.20216416,  0.50048628,  0.46804288,  0.25041944],\n",
       "        [ 0.10985828,  0.67518626,  0.95869146,  0.03187913,  0.28023251,\n",
       "          0.07023575,  0.27048854,  0.27547117,  0.32742337,  0.66891159],\n",
       "        [ 0.01834606,  0.96233557,  0.51885238,  0.55501152,  0.55523372,\n",
       "          0.10439124,  0.70700406,  0.32684952,  0.80268735,  0.36368466],\n",
       "        [ 0.93899777,  0.25735921,  0.66410318,  0.58749556,  0.7180436 ,\n",
       "          0.42724404,  0.08349724,  0.16898215,  0.56893286,  0.70823799],\n",
       "        [ 0.77929335,  0.45880712,  0.6240869 ,  0.16945581,  0.60909175,\n",
       "          0.54598319,  0.65531134,  0.39877856,  0.48549965,  0.96861675],\n",
       "        [ 0.31504227,  0.38892719,  0.06285146,  0.19823124,  0.32918164,\n",
       "          0.12717029,  0.75038122,  0.92178676,  0.86161203,  0.06722873],\n",
       "        [ 0.10114087,  0.08039198,  0.20514792,  0.52047067,  0.06902857,\n",
       "          0.05936231,  0.16662739,  0.91052264,  0.86625699,  0.32837483]])"
      ]
     },
     "execution_count": 12,
     "metadata": {},
     "output_type": "execute_result"
    }
   ],
   "source": [
    "un.nominal_values(k)"
   ]
  },
  {
   "cell_type": "code",
   "execution_count": null,
   "metadata": {
    "collapsed": false
   },
   "outputs": [],
   "source": []
  }
 ],
 "metadata": {
  "kernelspec": {
   "display_name": "Python 3",
   "language": "python",
   "name": "python3"
  },
  "language_info": {
   "codemirror_mode": {
    "name": "ipython",
    "version": 3
   },
   "file_extension": ".py",
   "mimetype": "text/x-python",
   "name": "python",
   "nbconvert_exporter": "python",
   "pygments_lexer": "ipython3",
   "version": "3.4.3"
  }
 },
 "nbformat": 4,
 "nbformat_minor": 0
}
